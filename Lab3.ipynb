{
  "nbformat": 4,
  "nbformat_minor": 0,
  "metadata": {
    "colab": {
      "provenance": [],
      "toc_visible": true
    },
    "kernelspec": {
      "name": "python3",
      "display_name": "Python 3"
    },
    "language_info": {
      "name": "python"
    }
  },
  "cells": [
    {
      "cell_type": "markdown",
      "source": [
        "#Task1"
      ],
      "metadata": {
        "id": "-PlvxPc5cO0z"
      }
    },
    {
      "cell_type": "code",
      "source": [
        "# write your function here\n",
        "def population_density(population, land_area):\n",
        "  return population/land_area\n",
        "\n",
        "# test cases for your function\n",
        "\n",
        "test1 = population_density(10, 1)\n",
        "\n",
        "expected_result1 = 10\n",
        "\n",
        "print(\"expected result: {}, actual result: {}\".format(expected_result1, test1))\n",
        "\n",
        "test2 = population_density(864816, 121.4)\n",
        "\n",
        "expected_result2 = 7123.6902801\n",
        "\n",
        "print(\"expected result: {}, actual result: {}\".format(expected_result2, test2))"
      ],
      "metadata": {
        "colab": {
          "base_uri": "https://localhost:8080/"
        },
        "id": "y80GcdPocRTo",
        "outputId": "39bc7b6b-3985-4d77-9b72-2c14d0a08f34"
      },
      "execution_count": null,
      "outputs": [
        {
          "output_type": "stream",
          "name": "stdout",
          "text": [
            "expected result: 10, actual result: 10.0\n",
            "expected result: 7123.6902801, actual result: 7123.690280065897\n"
          ]
        }
      ]
    },
    {
      "cell_type": "markdown",
      "source": [
        "#Task2"
      ],
      "metadata": {
        "id": "T_53qrbxdbtp"
      }
    },
    {
      "cell_type": "code",
      "source": [
        "def readable_timedelta(days):\n",
        "  weeks = days//7\n",
        "  days%=7\n",
        "\n",
        "  return \"{} week(s) and {} day(s)\".format(weeks, days)\n",
        "\n",
        "print(readable_timedelta(10))"
      ],
      "metadata": {
        "colab": {
          "base_uri": "https://localhost:8080/"
        },
        "id": "7YSmreZUdwDo",
        "outputId": "d91835e4-46c0-45ba-d36b-18d6f91b01d2"
      },
      "execution_count": null,
      "outputs": [
        {
          "output_type": "stream",
          "name": "stdout",
          "text": [
            "1 week(s) and 3 day(s)\n"
          ]
        }
      ]
    },
    {
      "cell_type": "markdown",
      "source": [
        "#Task3"
      ],
      "metadata": {
        "id": "o9fCC4Kokamf"
      }
    },
    {
      "cell_type": "code",
      "source": [
        "numbers = [\n",
        " [34, 63, 88, 71, 29],\n",
        " [90, 78, 51, 27, 45],\n",
        " [63, 37, 85, 46, 22],\n",
        " [51, 22, 34, 11, 18]\n",
        " ]\n",
        "\n",
        "def mean(num_list):\n",
        " return sum(num_list) / len(num_list)\n",
        "\n",
        "averages = list(map(mean, numbers))\n",
        "print(averages)"
      ],
      "metadata": {
        "colab": {
          "base_uri": "https://localhost:8080/"
        },
        "id": "OTGjJGX4kdXI",
        "outputId": "7e400b12-17aa-4be9-9846-65dbcf3212e1"
      },
      "execution_count": null,
      "outputs": [
        {
          "output_type": "stream",
          "name": "stdout",
          "text": [
            "[57.0, 58.2, 50.6, 27.2]\n"
          ]
        }
      ]
    },
    {
      "cell_type": "markdown",
      "source": [
        "#Task4"
      ],
      "metadata": {
        "id": "m1Leks_3lk6e"
      }
    },
    {
      "cell_type": "code",
      "source": [
        "cities = [\"New York City\", \"Los Angeles\", \"Chicago\", \"Mountain View\", \"Denver\", \"Boston\"]\n",
        "\n",
        "short_cities = list(filter(lambda name : len(name) < 10, cities))\n",
        "print(short_cities)"
      ],
      "metadata": {
        "colab": {
          "base_uri": "https://localhost:8080/"
        },
        "id": "aysJ7nR5lnC6",
        "outputId": "c5fbb1bf-f9a4-4372-e976-9c0045b8b34a"
      },
      "execution_count": null,
      "outputs": [
        {
          "output_type": "stream",
          "name": "stdout",
          "text": [
            "['Chicago', 'Denver', 'Boston']\n"
          ]
        }
      ]
    },
    {
      "cell_type": "markdown",
      "source": [
        "#Task5"
      ],
      "metadata": {
        "id": "0Md2oSw5mPqp"
      }
    },
    {
      "cell_type": "code",
      "source": [
        "names = input(\"Enter names separated by commas: \").split(\",\")\n",
        "\n",
        "assignments = input(\"Enter assignment counts separated by commas: \").split(\",\")\n",
        "grades = input(\"Enter grades separated by commas: \").split(\",\")\n",
        "\n",
        "message = \"Hi {},\\n\\nThis is a reminder that you have {} assignments left to \\n\\\n",
        "submit before you can graduate. You're current grade is {} and can increase \\n\\\n",
        "to {} if you submit all assignments before the due date.\\n\\n\"\n",
        "\n",
        "for name, assignment, grade in zip(names, assignments, grades):\n",
        "  print(message.format(name,assignment, grade, (int(grade) + 2 * int(assignment))))\n",
        "\n",
        "\n",
        "# # write a for loop that iterates through each set of names, assignments,\n",
        "# and grades to print each student's message"
      ],
      "metadata": {
        "id": "UYL3ReHmmTBm",
        "colab": {
          "base_uri": "https://localhost:8080/"
        },
        "outputId": "01eddae3-f725-4e44-ac51-3f7949f078ef"
      },
      "execution_count": null,
      "outputs": [
        {
          "output_type": "stream",
          "name": "stdout",
          "text": [
            "Enter names separated by commas: chandler bing, phoeb buffay, monica geller, ross geller\n",
            "Enter assignment counts separated by commas: 3,6,0,2\n",
            "Enter grades separated by commas: 81,77,92,88\n",
            "Hi chandler bing,\n",
            "\n",
            "This is a reminder that you have 3 assignments left to \n",
            "submit before you can graduate. You're current grade is 81 and can increase \n",
            "to 87 if you submit all assignments before the due date.\n",
            "\n",
            "\n",
            "Hi  phoeb buffay,\n",
            "\n",
            "This is a reminder that you have 6 assignments left to \n",
            "submit before you can graduate. You're current grade is 77 and can increase \n",
            "to 89 if you submit all assignments before the due date.\n",
            "\n",
            "\n",
            "Hi  monica geller,\n",
            "\n",
            "This is a reminder that you have 0 assignments left to \n",
            "submit before you can graduate. You're current grade is 92 and can increase \n",
            "to 92 if you submit all assignments before the due date.\n",
            "\n",
            "\n",
            "Hi  ross geller,\n",
            "\n",
            "This is a reminder that you have 2 assignments left to \n",
            "submit before you can graduate. You're current grade is 88 and can increase \n",
            "to 92 if you submit all assignments before the due date.\n",
            "\n",
            "\n"
          ]
        }
      ]
    },
    {
      "cell_type": "markdown",
      "source": [
        "#Task6"
      ],
      "metadata": {
        "id": "u8eHLp-bXIJP"
      }
    },
    {
      "cell_type": "code",
      "source": [
        "with open(\"camelot.txt\", \"w\") as f:\n",
        "  f.write(\"We're the knights of the round table\\nWe dance whenever we're able\")\n",
        "\n",
        "with open(\"camelot.txt\") as song:\n",
        " print(song.read(2))\n",
        " print(song.read(8))\n",
        " print(song.read())\n",
        "\n",
        " print()\n",
        "\n",
        "camelot_lines = []\n",
        "with open(\"camelot.txt\") as f:\n",
        " for line in f:\n",
        "  camelot_lines.append(line.strip())\n",
        "\n",
        "print(camelot_lines)"
      ],
      "metadata": {
        "id": "SxYiKtB0XMU2",
        "colab": {
          "base_uri": "https://localhost:8080/"
        },
        "outputId": "982d4575-c347-4f97-9c01-048d32918fbc"
      },
      "execution_count": 2,
      "outputs": [
        {
          "output_type": "stream",
          "name": "stdout",
          "text": [
            "We\n",
            "'re the \n",
            "knights of the round table\n",
            "We dance whenever we're able\n",
            "\n",
            "[\"We're the knights of the round table\", \"We dance whenever we're able\"]\n"
          ]
        }
      ]
    },
    {
      "cell_type": "markdown",
      "source": [
        "#Task7"
      ],
      "metadata": {
        "id": "UFCKCW1_dMNL"
      }
    },
    {
      "cell_type": "code",
      "source": [
        "\n",
        "def create_cast_list(filename):\n",
        "  cast_list = []\n",
        "  with open(filename) as file:\n",
        "      for name in file:\n",
        "        cast_list.append(name.split(\",\")[0])\n",
        "  return cast_list\n",
        "\n",
        "cast_list = create_cast_list('flying_circus_cast.txt')\n",
        "for actor in cast_list:\n",
        " print(actor)"
      ],
      "metadata": {
        "colab": {
          "base_uri": "https://localhost:8080/"
        },
        "id": "7e8dzKH_dOg6",
        "outputId": "eb60e4a8-e4fe-442a-f072-804b30cfd316"
      },
      "execution_count": 10,
      "outputs": [
        {
          "output_type": "stream",
          "name": "stdout",
          "text": [
            "Graham Chapman\n",
            "Eric Idle\n",
            "Terry Jones\n",
            "Michael Palin\n",
            "Terry Gilliam\n",
            "John Cleese\n",
            "Carol Cleveland\n",
            "Ian Davidson\n",
            "John Hughman\n",
            "The Fred Tomlinson Singers\n",
            "Connie Booth\n",
            "Bob Raymond\n",
            "Lyn Ashley\n",
            "Rita Davies\n",
            "Stanley Mason\n",
            "David Ballantyne\n",
            "Donna Reading\n",
            "Peter Brett\n",
            "Maureen Flanagan\n",
            "Katya Wyeth\n",
            "Frank Lester\n",
            "Neil Innes\n",
            "Dick Vosburgh\n",
            "Sandra Richards\n",
            "Julia Breck\n",
            "Nicki Howorth\n",
            "Jimmy Hill\n",
            "Barry Cryer\n",
            "Jeannette Wild\n",
            "Marjorie Wilde\n",
            "Marie Anderson\n",
            "Caron Gardner\n",
            "Nosher Powell\n",
            "Carolae Donoghue\n",
            "Vincent Wong\n",
            "Helena Clayton\n",
            "Nigel Jones\n",
            "Roy Gunson\n",
            "Daphne Davey\n",
            "Stenson Falke\n",
            "Alexander Curry\n",
            "Frank Williams\n",
            "Ralph Wood\n",
            "Rosalind Bailey\n",
            "Marion Mould\n",
            "Sheila Sands\n",
            "Richard Baker\n",
            "Douglas Adams\n",
            "Ewa Aulin\n",
            "Reginald Bosanquet\n",
            "Barbara Lindley\n",
            "Roy Brent\n",
            "Jonas Card\n",
            "Tony Christopher\n",
            "Beulah Hughes\n",
            "Peter Kodak\n",
            "Lulu\n",
            "Jay Neill\n",
            "Graham Skidmore\n",
            "Ringo Starr\n",
            "Fred Tomlinson\n",
            "David Hamilton\n",
            "Suzy Mandel\n",
            "Peter Woods\n"
          ]
        }
      ]
    }
  ]
}