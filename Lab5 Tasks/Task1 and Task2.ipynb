{
 "cells": [
  {
   "cell_type": "markdown",
   "id": "1c3b7592",
   "metadata": {},
   "source": [
    "# Task 1\n"
   ]
  },
  {
   "cell_type": "code",
   "execution_count": 2,
   "id": "daf2f64d",
   "metadata": {},
   "outputs": [
    {
     "name": "stdout",
     "output_type": "stream",
     "text": [
      "Earth     8.311111\n",
      "Mars     12.661111\n",
      "Venus     6.011111\n",
      "Name: Distance_from_Sun, dtype: float64\n"
     ]
    }
   ],
   "source": [
    "import pandas as pd\n",
    "\n",
    "distance_from_sun = [149.6, 1433.5, 227.9, 108.2, 778.6]\n",
    "\n",
    "planets = ['Earth', 'Saturn', 'Mars', 'Venus', 'Jupiter']\n",
    "\n",
    "dist_planets = pd.Series(distance_from_sun, index=planets, name=\"Distance_from_Sun\")\n",
    "\n",
    "speed_of_light = 18\n",
    "time_light = dist_planets / speed_of_light\n",
    "\n",
    "close_planets = time_light[time_light < 40]\n",
    "\n",
    "print(close_planets)"
   ]
  },
  {
   "cell_type": "markdown",
   "id": "a7fa0b67",
   "metadata": {},
   "source": [
    "# Task2"
   ]
  },
  {
   "cell_type": "code",
   "execution_count": 27,
   "id": "dbbe84b1",
   "metadata": {},
   "outputs": [
    {
     "name": "stdout",
     "output_type": "stream",
     "text": [
      "                Auther           Book Title  User 1  User 2    User 3  User 4\n",
      "0      Charles Dickens   Great Expectations    3.20   5.000  2.000000     4.0\n",
      "1       John Steinbeck      Of Mice and Men    2.85   1.300  2.300000     3.5\n",
      "2  William Shakespeare     Romeo and Juliet    2.50   4.000  2.766667     4.0\n",
      "3          H. G. Wells     The Time Machine    2.85   3.800  4.000000     5.0\n",
      "4        Lewis Carroll  Alice in Wonderland    2.85   3.525  2.766667     4.2\n",
      "Best rated books: ['Great Expectations' 'The Time Machine']\n"
     ]
    }
   ],
   "source": [
    "import pandas as pd\n",
    "import numpy as np\n",
    "\n",
    "# Since we will be working with ratings, we will set the precision of our \n",
    "# dataframes to one decimal place.\n",
    "# Create a Pandas DataFrame that contains the ratings some users have given to a\n",
    "# series of books. The ratings given are in the range from 1 to 5, with 5 being\n",
    "# the best score. The names of the books, the authors, and the ratings of each user\n",
    "# are given below:\n",
    "\n",
    "books = pd.Series(data = ['Great Expectations', 'Of Mice and Men', 'Romeo and Juliet', 'The Time Machine', 'Alice in Wonderland' ])\n",
    "authors = pd.Series(data = ['Charles Dickens', 'John Steinbeck', 'William Shakespeare', ' H. G. Wells', 'Lewis Carroll' ])\n",
    "\n",
    "user_1 = pd.Series(data = [3.2, np.nan ,2.5])\n",
    "user_2 = pd.Series(data = [5., 1.3, 4.0, 3.8])\n",
    "user_3 = pd.Series(data = [2.0, 2.3, np.nan, 4])\n",
    "user_4 = pd.Series(data = [4, 3.5, 4, 5, 4.2])\n",
    "\n",
    "dat = {\"Auther\": authors, \"Book Title\": books, \"User 1\": user_1,\n",
    "       \"User 2\": user_2, \"User 3\": user_3, \"User 4\": user_4}\n",
    "\n",
    "book_ratings = pd.DataFrame(dat)\n",
    "\n",
    "book_ratings.fillna(book_ratings.select_dtypes(include=np.number).mean(), inplace = True)\n",
    "print(book_ratings)\n",
    "\n",
    "best_rated = book_ratings[(book_ratings == 5).any(axis = 1)]['Book Title'].values\n",
    "\n",
    "print(\"Best rated books:\", best_rated)\n",
    "\n",
    "# Now replace all the NaN values in your DataFrame with the average rating in\n",
    "# each column. Replace the NaN values in place. HINT: you can use the fillna()\n",
    "# function with the keyword inplace = True, to do this. Write "
   ]
  },
  {
   "cell_type": "code",
   "execution_count": null,
   "id": "e4226802",
   "metadata": {},
   "outputs": [],
   "source": []
  }
 ],
 "metadata": {
  "kernelspec": {
   "display_name": "Python 3 (ipykernel)",
   "language": "python",
   "name": "python3"
  },
  "language_info": {
   "codemirror_mode": {
    "name": "ipython",
    "version": 3
   },
   "file_extension": ".py",
   "mimetype": "text/x-python",
   "name": "python",
   "nbconvert_exporter": "python",
   "pygments_lexer": "ipython3",
   "version": "3.11.4"
  }
 },
 "nbformat": 4,
 "nbformat_minor": 5
}
