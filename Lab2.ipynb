{
  "nbformat": 4,
  "nbformat_minor": 0,
  "metadata": {
    "colab": {
      "provenance": []
    },
    "kernelspec": {
      "name": "python3",
      "display_name": "Python 3"
    },
    "language_info": {
      "name": "python"
    }
  },
  "cells": [
    {
      "cell_type": "markdown",
      "source": [
        "#Task1\n"
      ],
      "metadata": {
        "id": "E30vFfm92xiu"
      }
    },
    {
      "cell_type": "code",
      "source": [
        "prize_name = \"\"\n",
        "result = \"\"\n",
        "points = int(input(\"Enter point: \"))\n",
        "\n",
        "if points >=1 and points <=200:\n",
        "  if points >=1 and points <=50:\n",
        "    prize_name = \"wodden rabit\"\n",
        "  elif points <= 150:\n",
        "    prize_name = \"no prize\"\n",
        "  elif points <= 180:\n",
        "    prize_name = \"wafer-thin mint\"\n",
        "  elif points <= 200:\n",
        "    prize_name = \"penguin\"\n",
        "\n",
        "  if(prize_name == \"no prize\"):\n",
        "    print(\"Oh dear, no prize this time\")\n",
        "  else:\n",
        "    print(f\"Congratulations you won a {prize_name}\")\n",
        "\n",
        "else:\n",
        "  print(\"Please Enter points from 1 to 200\")"
      ],
      "metadata": {
        "colab": {
          "base_uri": "https://localhost:8080/"
        },
        "id": "FXCny5Pt20Ia",
        "outputId": "ababf5e2-7532-4ad0-be0f-7ab339b2d02a"
      },
      "execution_count": null,
      "outputs": [
        {
          "output_type": "stream",
          "name": "stdout",
          "text": [
            "Enter point: 47\n",
            "Congratulations you won a wodden rabit\n"
          ]
        }
      ]
    },
    {
      "cell_type": "markdown",
      "source": [
        "#Task2"
      ],
      "metadata": {
        "id": "gPtGQjYh6FuV"
      }
    },
    {
      "cell_type": "code",
      "source": [
        "answer = 47\n",
        "guess = int(input(\"Enter a number: \"))\n",
        "if guess < answer:\n",
        " result = \"Oops! Your guess was too low.\"\n",
        "elif guess > answer:\n",
        " result = \"Oops! Your guess was too high.\"\n",
        "elif guess == answer:\n",
        " result = \"Nice! Your guess matched the answer!\"\n",
        "\n",
        "print(result)"
      ],
      "metadata": {
        "colab": {
          "base_uri": "https://localhost:8080/"
        },
        "id": "-sf5P5Gv6ImO",
        "outputId": "09bf872b-a154-4aa0-efad-76c88458f528"
      },
      "execution_count": null,
      "outputs": [
        {
          "output_type": "stream",
          "name": "stdout",
          "text": [
            "Enter a number: 47\n",
            "Nice! Your guess matched the answer!\n"
          ]
        }
      ]
    },
    {
      "cell_type": "markdown",
      "source": [
        "#Task3"
      ],
      "metadata": {
        "id": "QnKtToRj7YU6"
      }
    },
    {
      "cell_type": "code",
      "source": [
        "amount = int(input(\"Enter amount: \"))\n",
        "state = input(\"Enter your state (CA, MN, NY): \").upper()\n",
        "\n",
        "tax = 0\n",
        "\n",
        "if state == \"CA\":\n",
        "  tax = (7.5*amount)/100\n",
        "elif state == \"MN\":\n",
        "  tax = (9.5*amount)/100\n",
        "elif state == \"NY\":\n",
        "  tax = (8.9*amount)/100\n",
        "\n",
        "print(\"You had to pay {} tax\".format(tax))"
      ],
      "metadata": {
        "colab": {
          "base_uri": "https://localhost:8080/"
        },
        "id": "rKJElpk_7a7c",
        "outputId": "7608d59a-568f-4acc-917e-cf934b97deeb"
      },
      "execution_count": null,
      "outputs": [
        {
          "output_type": "stream",
          "name": "stdout",
          "text": [
            "Enter amount: 1000\n",
            "Enter your state (CA, MN, NY): MN\n",
            "You had to pay 95.0 tax\n"
          ]
        }
      ]
    },
    {
      "cell_type": "markdown",
      "source": [
        "#Task4\n"
      ],
      "metadata": {
        "id": "KTYBBwi-93OJ"
      }
    },
    {
      "cell_type": "code",
      "source": [
        "sentence = [\"the\", \"quick\", \"brown\", \"fox\", \"jumped\", \"over\", \"the\",\n",
        "\"lazy\", \"dog\"]\n",
        "\n",
        "for word in sentence:\n",
        "  print(word)"
      ],
      "metadata": {
        "colab": {
          "base_uri": "https://localhost:8080/"
        },
        "id": "ua4I0Rbp97AE",
        "outputId": "78e80cf1-7e2f-46ed-e4d5-a3be35d950c7"
      },
      "execution_count": null,
      "outputs": [
        {
          "output_type": "stream",
          "name": "stdout",
          "text": [
            "the\n",
            "quick\n",
            "brown\n",
            "fox\n",
            "jumped\n",
            "over\n",
            "the\n",
            "lazy\n",
            "dog\n"
          ]
        }
      ]
    },
    {
      "cell_type": "markdown",
      "source": [
        "#Task5"
      ],
      "metadata": {
        "id": "gKWgxydR-F7Z"
      }
    },
    {
      "cell_type": "code",
      "source": [
        "for i in range(1,31):\n",
        "  if(i%5 == 0):\n",
        "    print(i)"
      ],
      "metadata": {
        "colab": {
          "base_uri": "https://localhost:8080/"
        },
        "id": "rITpIRoW-PJx",
        "outputId": "a060ad39-e645-4153-a2d3-b24d021e1c71"
      },
      "execution_count": null,
      "outputs": [
        {
          "output_type": "stream",
          "name": "stdout",
          "text": [
            "5\n",
            "10\n",
            "15\n",
            "20\n",
            "25\n",
            "30\n"
          ]
        }
      ]
    },
    {
      "cell_type": "markdown",
      "source": [
        "#Task6"
      ],
      "metadata": {
        "id": "6dmdIpZX-pZx"
      }
    },
    {
      "cell_type": "code",
      "source": [
        "names = [\"Rick Sanchez\", \"Morty Smith\", \"Summer Smith\", \"Jerry Smith\", \"Beth Smith\"]\n",
        "first_names = [first_name[:first_name.index(\" \")].lower() for first_name in names]\n",
        "print(first_names)"
      ],
      "metadata": {
        "colab": {
          "base_uri": "https://localhost:8080/"
        },
        "id": "mfcbNBIz-rF4",
        "outputId": "1e676c9c-3864-4eb3-c870-fbaa054dd348"
      },
      "execution_count": null,
      "outputs": [
        {
          "output_type": "stream",
          "name": "stdout",
          "text": [
            "['rick', 'morty', 'summer', 'jerry', 'beth']\n"
          ]
        }
      ]
    },
    {
      "cell_type": "markdown",
      "source": [
        "#Task7"
      ],
      "metadata": {
        "id": "cDexNtZY_2Xa"
      }
    },
    {
      "cell_type": "code",
      "source": [
        "multiples_3 = [i*3 for i in range(1, 21)]\n",
        "print(multiples_3)"
      ],
      "metadata": {
        "colab": {
          "base_uri": "https://localhost:8080/"
        },
        "id": "sASykmK1_5Ki",
        "outputId": "4fd2d20d-8823-4f2b-f58a-f4b4a5500be2"
      },
      "execution_count": null,
      "outputs": [
        {
          "output_type": "stream",
          "name": "stdout",
          "text": [
            "[3, 6, 9, 12, 15, 18, 21, 24, 27, 30, 33, 36, 39, 42, 45, 48, 51, 54, 57, 60]\n"
          ]
        }
      ]
    },
    {
      "cell_type": "markdown",
      "source": [
        "#Task8"
      ],
      "metadata": {
        "id": "FagbiKgYBTIQ"
      }
    },
    {
      "cell_type": "code",
      "source": [
        "scores = {\n",
        " \"Rick Sanchez\": 70,\n",
        " \"Morty Smith\": 35,\n",
        " \"Summer Smith\": 82,\n",
        " \"Jerry Smith\": 23,\n",
        " \"Beth Smith\": 98\n",
        " }\n",
        "\n",
        "passed = [name for name, score in scores.items() if score >= 65]\n",
        "\n",
        "print(passed)"
      ],
      "metadata": {
        "colab": {
          "base_uri": "https://localhost:8080/"
        },
        "id": "dlaCtLw-BXoS",
        "outputId": "2a7c1d5f-7f41-4636-b9c7-c1cd56b17c2f"
      },
      "execution_count": null,
      "outputs": [
        {
          "output_type": "stream",
          "name": "stdout",
          "text": [
            "['Rick Sanchez', 'Summer Smith', 'Beth Smith']\n"
          ]
        }
      ]
    },
    {
      "cell_type": "markdown",
      "source": [
        "#Task9"
      ],
      "metadata": {
        "id": "CqH9npuNCm4F"
      }
    },
    {
      "cell_type": "code",
      "source": [
        "cast_names = [\"Barney\", \"Robin\", \"Ted\", \"Lily\", \"Marshall\"]\n",
        "cast_heights = [72, 68, 72, 66, 76]\n",
        "\n",
        "cast = {}\n",
        "\n",
        "for name, height in zip(cast_names, cast_heights):\n",
        "  cast[name] = height\n",
        "\n",
        "print(cast)"
      ],
      "metadata": {
        "colab": {
          "base_uri": "https://localhost:8080/"
        },
        "id": "bI_4WbqyCp1T",
        "outputId": "8ce63f2c-6541-431c-e262-603b2fe4aa50"
      },
      "execution_count": null,
      "outputs": [
        {
          "output_type": "stream",
          "name": "stdout",
          "text": [
            "{'Barney': 72, 'Robin': 68, 'Ted': 72, 'Lily': 66, 'Marshall': 76}\n"
          ]
        }
      ]
    },
    {
      "cell_type": "markdown",
      "source": [
        "#Task10"
      ],
      "metadata": {
        "id": "272hIdAaDJ9e"
      }
    },
    {
      "cell_type": "code",
      "source": [
        "cast = [\"Barney Stinson\", \"Robin Scherbatsky\", \"Ted Mosby\", \"Lily Aldrin\", \"Marshall Eriksen\"]\n",
        "heights = [72, 68, 72, 66, 76]\n",
        "\n",
        "for i, name in enumerate(cast):\n",
        "  cast[i] = name + str(heights[i])\n",
        "\n",
        "print(cast)\n"
      ],
      "metadata": {
        "colab": {
          "base_uri": "https://localhost:8080/"
        },
        "id": "XtfM9_YyDMoE",
        "outputId": "c42ed1df-5f3f-4bab-8142-3c6403b1cb99"
      },
      "execution_count": null,
      "outputs": [
        {
          "output_type": "stream",
          "name": "stdout",
          "text": [
            "['Barney Stinson72', 'Robin Scherbatsky68', 'Ted Mosby72', 'Lily Aldrin66', 'Marshall Eriksen76']\n"
          ]
        }
      ]
    }
  ]
}