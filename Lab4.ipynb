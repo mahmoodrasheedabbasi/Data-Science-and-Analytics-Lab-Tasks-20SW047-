{
  "nbformat": 4,
  "nbformat_minor": 0,
  "metadata": {
    "colab": {
      "provenance": []
    },
    "kernelspec": {
      "name": "python3",
      "display_name": "Python 3"
    },
    "language_info": {
      "name": "python"
    }
  },
  "cells": [
    {
      "cell_type": "markdown",
      "source": [
        "#Task1\n"
      ],
      "metadata": {
        "id": "5yjOIF9RikXh"
      }
    },
    {
      "cell_type": "code",
      "execution_count": 2,
      "metadata": {
        "id": "78Jbi8LcLi8d",
        "colab": {
          "base_uri": "https://localhost:8080/"
        },
        "outputId": "cf78d2c0-ada1-404b-c0fe-e07edff981ca"
      },
      "outputs": [
        {
          "output_type": "stream",
          "name": "stdout",
          "text": [
            "[[ 2  4  6  8]\n",
            " [10 12 14 16]\n",
            " [18 20 22 24]\n",
            " [26 28 30 32]]\n"
          ]
        }
      ],
      "source": [
        "import numpy as np\n",
        "\n",
        "x = np.arange(2,33, 2).reshape(4,4)\n",
        "\n",
        "print(x)"
      ]
    },
    {
      "cell_type": "markdown",
      "source": [
        "#Task2"
      ],
      "metadata": {
        "id": "zgWK4HKuiubX"
      }
    },
    {
      "cell_type": "code",
      "source": [
        "import numpy as np\n",
        "\n",
        "x = np.arange(1,26).reshape(5,5)\n",
        "y = x[x%2 != 0]\n",
        "print(y)"
      ],
      "metadata": {
        "colab": {
          "base_uri": "https://localhost:8080/"
        },
        "id": "Lv3s7Nmjiwa2",
        "outputId": "32cb4d32-ecc5-4217-9fc6-38647d1b56d3"
      },
      "execution_count": 7,
      "outputs": [
        {
          "output_type": "stream",
          "name": "stdout",
          "text": [
            "[ 1  3  5  7  9 11 13 15 17 19 21 23 25]\n"
          ]
        }
      ]
    },
    {
      "cell_type": "markdown",
      "source": [
        "#Task3\n"
      ],
      "metadata": {
        "id": "JegTitbojzJz"
      }
    },
    {
      "cell_type": "code",
      "source": [
        "import numpy as np\n",
        "\n",
        "x = np.arange(1,5).reshape(4,1)*np.ones((1,4))\n",
        "print(x)"
      ],
      "metadata": {
        "colab": {
          "base_uri": "https://localhost:8080/"
        },
        "id": "hmmpn0p7jHCf",
        "outputId": "1838d92c-f077-4de3-e0cc-83cb2dd4c3a1"
      },
      "execution_count": 8,
      "outputs": [
        {
          "output_type": "stream",
          "name": "stdout",
          "text": [
            "[[1. 1. 1. 1.]\n",
            " [2. 2. 2. 2.]\n",
            " [3. 3. 3. 3.]\n",
            " [4. 4. 4. 4.]]\n"
          ]
        }
      ]
    },
    {
      "cell_type": "markdown",
      "source": [
        "#Task4\n"
      ],
      "metadata": {
        "id": "KuXbe9gSnSbT"
      }
    },
    {
      "cell_type": "code",
      "source": [
        "from google.colab import drive\n",
        "drive.mount('/NumPy.ipynb')\n",
        "\n",
        "import numpy as np\n",
        "\n",
        "# Create a 1000x20 ndarray with random integers in the range [0, 5001)\n",
        "X = np.random.randint(0, 5001, size=(1000, 20))\n",
        "# Print the shape of X\n",
        "print(X.shape)\n",
        "\n",
        "# Calculate the average of the values in each column of X\n",
        "ave_cols = np.mean(X, axis=0)\n",
        "\n",
        "# Calculate the standard deviation of the values in each column of X\n",
        "std_cols = np.std(X, axis=0)\n",
        "\n",
        "\n",
        "print(\"Shape of ave_cols:\", ave_cols.shape)\n",
        "print(\"Shape of std_cols:\", std_cols.shape)\n",
        "\n",
        "# Mean normalize X\n",
        "X_norm = (X - ave_cols) / std_cols\n",
        "\n",
        "print(\"Mean normalized X:\")\n",
        "print(X_norm)\n",
        "\n",
        "# Print the average of all the values of X_norm\n",
        "ave_all_values = np.mean(X_norm)\n",
        "print(\"Average of all values in X_norm:\", ave_all_values)\n",
        "\n",
        "# Print the average of the minimum value in each column of X_norm\n",
        "ave_min_values = np.mean(np.min(X_norm, axis=0))\n",
        "print(\"Average of minimum values in each column of X_norm:\", ave_min_values)\n",
        "\n",
        "# Print the average of the maximum value in each column of X_norm\n",
        "ave_max_values = np.mean(np.max(X_norm, axis=0))\n",
        "print(\"Average of maximum values in each column of X_norm:\", ave_max_values)\n",
        "\n",
        "# We create a random permutation of integers 0 to 4\n",
        "np.random.permutation(5)\n",
        "\n",
        "# Create a random permutation of row indices of X_norm\n",
        "row_indices = np.random.permutation(X_norm.shape[0])\n",
        "\n",
        "print(\"Random permutation of row indices:\", row_indices)\n",
        "\n",
        "# Define the ratios for training, cross-validation, and test sets\n",
        "train_ratio = 0.6\n",
        "cross_val_ratio = 0.2\n",
        "test_ratio = 0.2\n",
        "\n",
        "# Calculate the sizes of each set based on the ratios\n",
        "num_rows = X_norm.shape[0]\n",
        "num_train = int(train_ratio * num_rows)\n",
        "num_cross_val = int(cross_val_ratio * num_rows)\n",
        "num_test = int(test_ratio * num_rows)\n",
        "\n",
        "# Use row_indices to split the data into sets\n",
        "X_train = X_norm[row_indices[:num_train]]\n",
        "X_crossVal = X_norm[row_indices[num_train:num_train + num_cross_val]]\n",
        "X_test = X_norm[row_indices[num_train + num_cross_val:]]\n",
        "\n",
        "print(\"X_train shape:\", X_train.shape)\n",
        "print(\"X_crossVal shape:\", X_crossVal.shape)\n",
        "print(\"X_test shape:\", X_test.shape)"
      ],
      "metadata": {
        "colab": {
          "base_uri": "https://localhost:8080/"
        },
        "id": "0cwAhTAsnU6l",
        "outputId": "ceceae71-8a86-4a33-c74b-5756a1d6f007"
      },
      "execution_count": 9,
      "outputs": [
        {
          "output_type": "stream",
          "name": "stdout",
          "text": [
            "Mounted at /NumPy.ipynb\n",
            "(1000, 20)\n",
            "Shape of ave_cols: (20,)\n",
            "Shape of std_cols: (20,)\n",
            "Mean normalized X:\n",
            "[[-1.54480961  0.79048566  0.8580607  ... -0.36014265 -1.11305182\n",
            "   0.58071573]\n",
            " [ 0.77300692 -0.40871476 -0.69703516 ... -1.29006454 -1.20355175\n",
            "   1.56239945]\n",
            " [-0.98663875  0.97377255 -0.74273192 ...  0.47488925 -1.41633023\n",
            "   1.11301265]\n",
            " ...\n",
            " [ 0.3754904   1.45481545  1.05631433 ... -1.01945235  1.05549248\n",
            "   1.56239945]\n",
            " [-1.40681165 -1.31629144 -0.39684261 ... -1.35051298  1.12319472\n",
            "  -0.30272994]\n",
            " [-1.2990222   0.99012528 -1.13291194 ... -0.33905599 -1.17591819\n",
            "   0.43649392]]\n",
            "Average of all values in X_norm: 1.0658141036401502e-18\n",
            "Average of minimum values in each column of X_norm: -1.730053333492847\n",
            "Average of maximum values in each column of X_norm: 1.7209187813577589\n",
            "Random permutation of row indices: [156 846  44 325 906 700 743 946 964 614 260 632 799 985 981 205  89 669\n",
            " 258 234 288 445 138 879 712 631 546  13 315 653 313 219 269 208 478  77\n",
            " 387 442  12 131 231 710 598 950 353 320 304 101 118 787 406 540 924  88\n",
            " 512 920 665  64 708 550 537 982 139 623 807 458 701 639 297 583 254 504\n",
            " 695 193 827 664 842 900 937 845 179 144 800 718  71 155 561 443 122 382\n",
            " 749 600 674 872 264 852 424 610 977 804 141  49 272 850 388 679 579 117\n",
            " 220 556 890 459 432 782 407 535 670  97 883 107 789 210 652 481 672 999\n",
            "  15 204 456 368 773 983 207 606 811 778 775 738 548  30   9 770 539 979\n",
            "  55 996 114 993 363 865   1 696 495 855 884  26 277 577  69 433 266 355\n",
            " 394 961  41 361 326  37 227 569 817  22  38 465 794 925 683 437 953 441\n",
            " 449 186  28 630 692 724 376 314 212 622 136 875 544 223 480  43 915 497\n",
            " 570 502 824 377 678 730 654 430  50 588 620 359 934 408 998 742 215 659\n",
            "  86 837 110  90 106 815 126  21 291  36 119 519 389 681 960 858 812 157\n",
            " 733 425 613 127 721  72 604 317 597 423 143 346 727 645 280 955 929 951\n",
            " 621 488 402 464 249 105 619 661 473 493 819 250 403 438 873 636 148 183\n",
            " 415 487 612 499 462 201 763 995 624 796 303 838 268 897 878 239 757 926\n",
            " 176 498 997 918 711 165 816 214 411 615 416 991 418  19 662 474 931  93\n",
            " 908 470 436 785 367 941 726  60 734 494 199  34 943 564 994  75 605 573\n",
            " 296 833 533 145 142  79 185   0 446 282 687 435 429   2  73  65 633 520\n",
            " 870 419 869 585 128 477 217 747 706 125 948  84 694 702 781 202 611 409\n",
            " 366 972 909 163 751 290 190 154 552  42 129 798 233 356 697 969 448 809\n",
            " 973   3 421 745 559 213 651  91 768 810 791 703 932 319 936 511 189 295\n",
            " 253 311 333 471 676 381 935  48  52 675 293 759 226 485 510 866  56 182\n",
            " 181 104 820 197 180 668 531 974 265 602 599 237 273 120 276 680 635 930\n",
            " 486 439 301 849 348  25 856 840 241 896 505 939 776 841 593 625 102 521\n",
            " 386 741 255 640 603  31 545 343 754 750 196 740 968 543 725 923  87 910\n",
            " 302 553 970 274 647 857 735 591 116 489 365 732 637 287 737   8 369  99\n",
            "  81 235 586 783 788 790  98 224 427 744 945 503 175 327 262 608 580 885\n",
            " 888 390 660 526 341 491 641 618 167 453  85 971 707 321 704 391 860 284\n",
            " 728 949 289 786 716 160 350 161 808 922 829  68 373 648 222 450 975 767\n",
            " 417 818 650 132 976 887 339 803 112 501 195  32 184 370 746 892 490 764\n",
            " 628 292 372 149 719  47 344 657 111 385 882 332 251 801 451 229  10 626\n",
            " 358 904 762 124 795 894 257 956 705 324 392 236 312 245 178 479 307 354\n",
            " 851 103 729 401 330 638 173 395 187 133 571 836 422 958 410 238 275 874\n",
            " 574 714 938 209  80 843 911 247 919 578  35 243 536 902 340 899 880 371\n",
            " 739 607 590 658 656  23 980 886 954 278 323 877 563 671 514 557 399 334\n",
            " 916 252 987 192 398 861 889 455 686  96 285 168 357 952 329 688  17 957\n",
            " 891 713 452 300 206 159 589 554 342  61  94 475 928 864 345  76 121 831\n",
            " 270 898 259 797 731 912 748  63  18 123 203 500 147 903   6 847 766 560\n",
            " 335  74 859 601 322  40  20 576 534 649 172 444 256 524 316   5 698 318\n",
            " 130 813 298  51 279  92 352 835 384 690 109 457 472 722 752 134 720 513\n",
            " 515 629 566 378 959  70 100  62 294  83 542  59 467 230 492 153 158 454\n",
            " 426 232 839 496 140 547 516 164 337 166 646 986 522 962 549 380 933 428\n",
            " 642  33 963 965 992 821 595 414 587 715  78 978 966 469 309 509 753 194\n",
            " 666 468 863 617 736 271 135 771 616 825 779 461 379 826 822 881 567 431\n",
            " 506 338 682 584 988 305 308  16 523 755 876 360 862 412 871  29 336 594\n",
            " 177  54 286  57 989 447 171 483 218 349   4 440 990 568 758 397 525 699\n",
            " 538 413 400 780 572 761 351 216 240  58 146 108  46 113 530 244 805 331\n",
            " 283 772 643 844 901  82 225 830 907 677  66 383 927 823 905 895  11 281\n",
            " 174 627 644 575 404 806 802 198 984 507 774 150 777 685 555 893 306 246\n",
            " 565 558 364 793 582 562 420 756 393 299 914 634 853 655 848 581  53 362\n",
            " 717 152 663 527  24 221 532  39 169 854 832 944 374 310 947 765 484 551\n",
            " 769  45 528 375 518 942  27 211 482 529 162   7 463 828 476 784 868 667\n",
            "  14  95 263 267 508 709 137 541 328 517 967 921 689 609 913 592 261 434\n",
            "  67 814 115 347 248 460 242 867 151 466 596 170 200 723 228 792 834 396\n",
            " 917 691 693 188 760 684 940 191 673 405]\n",
            "X_train shape: (600, 20)\n",
            "X_crossVal shape: (200, 20)\n",
            "X_test shape: (200, 20)\n"
          ]
        }
      ]
    }
  ]
}